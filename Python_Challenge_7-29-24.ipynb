{
  "nbformat": 4,
  "nbformat_minor": 0,
  "metadata": {
    "colab": {
      "provenance": [],
      "authorship_tag": "ABX9TyO3mNCHnuLXawhzAXAFY3Dq",
      "include_colab_link": true
    },
    "kernelspec": {
      "name": "python3",
      "display_name": "Python 3"
    },
    "language_info": {
      "name": "python"
    }
  },
  "cells": [
    {
      "cell_type": "markdown",
      "metadata": {
        "id": "view-in-github",
        "colab_type": "text"
      },
      "source": [
        "<a href=\"https://colab.research.google.com/github/dkenessey/Python_Coding_Challenges/blob/main/Python_Challenge_7-29-24.ipynb\" target=\"_parent\"><img src=\"https://colab.research.google.com/assets/colab-badge.svg\" alt=\"Open In Colab\"/></a>"
      ]
    },
    {
      "cell_type": "markdown",
      "source": [
        "# Easy"
      ],
      "metadata": {
        "id": "PuDvGOcj7Zun"
      }
    },
    {
      "cell_type": "markdown",
      "source": [
        "You are given a list of sales transactions where each transaction is a dictionary containing a transaction ID and a sale amount. Write a function to detect and remove outliers based on the Interquartile Range (IQR) method. Return the cleaned data without outliers."
      ],
      "metadata": {
        "id": "tivF41807d8N"
      }
    },
    {
      "cell_type": "code",
      "execution_count": 14,
      "metadata": {
        "id": "uf1udTI67M7B"
      },
      "outputs": [],
      "source": [
        "sales_data = [\n",
        "    {\"transaction_id\": 1, \"amount\": 100},\n",
        "    {\"transaction_id\": 2, \"amount\": 150},\n",
        "    {\"transaction_id\": 3, \"amount\": 200},\n",
        "    {\"transaction_id\": 4, \"amount\": 250},\n",
        "    {\"transaction_id\": 5, \"amount\": 300},\n",
        "    {\"transaction_id\": 6, \"amount\": 4000}  # Outlier\n",
        "]"
      ]
    },
    {
      "cell_type": "code",
      "source": [
        "import numpy as np\n",
        "import pandas as pd"
      ],
      "metadata": {
        "id": "8TWbnCwL88ol"
      },
      "execution_count": 29,
      "outputs": []
    },
    {
      "cell_type": "code",
      "source": [
        "def outlier_remover(df, column):\n",
        "    df = pd.DataFrame(df)\n",
        "\n",
        "    upper = np.percentile(df[column], 75)\n",
        "    lower = np.percentile(df[column], 25)\n",
        "    iqr = upper - lower\n",
        "    upper_bound = upper + 1.5 * iqr\n",
        "    lower_bound = lower - 1.5 * iqr\n",
        "\n",
        "    filtered_df = df[(df[column] >= lower_bound) & (df[column] <= upper_bound)]  #Filter out the outliers\n",
        "\n",
        "    return filtered_df.to_dict(orient='records')"
      ],
      "metadata": {
        "id": "ADzXHdvA7o7t"
      },
      "execution_count": 60,
      "outputs": []
    },
    {
      "cell_type": "code",
      "source": [
        "outlier_remover(sales_data, 'amount')"
      ],
      "metadata": {
        "colab": {
          "base_uri": "https://localhost:8080/"
        },
        "id": "s7t3nGQM9QDA",
        "outputId": "054e74f7-ecaf-4bc7-91eb-d63fbb67b81d"
      },
      "execution_count": 61,
      "outputs": [
        {
          "output_type": "execute_result",
          "data": {
            "text/plain": [
              "[{'transaction_id': 1, 'amount': 100},\n",
              " {'transaction_id': 2, 'amount': 150},\n",
              " {'transaction_id': 3, 'amount': 200},\n",
              " {'transaction_id': 4, 'amount': 250},\n",
              " {'transaction_id': 5, 'amount': 300}]"
            ]
          },
          "metadata": {},
          "execution_count": 61
        }
      ]
    },
    {
      "cell_type": "markdown",
      "source": [
        "# Medium"
      ],
      "metadata": {
        "id": "HLVqIPVQBM-7"
      }
    },
    {
      "cell_type": "markdown",
      "source": [
        "You are given multiple lists of dictionaries, each representing a dataset with records containing an 'id' and 'value'. Write a function to merge these datasets and sort the combined dataset by 'value'."
      ],
      "metadata": {
        "id": "WvNw09RnBOea"
      }
    },
    {
      "cell_type": "code",
      "source": [
        "dataset1 = [\n",
        "    {\"id\": 1, \"value\": 10},\n",
        "    {\"id\": 2, \"value\": 20}\n",
        "]\n",
        "dataset2 = [\n",
        "    {\"id\": 3, \"value\": 15},\n",
        "    {\"id\": 4, \"value\": 25}\n",
        "]\n",
        "dataset3 = [\n",
        "    {\"id\": 5, \"value\": 5},\n",
        "    {\"id\": 6, \"value\": 30}\n",
        "]"
      ],
      "metadata": {
        "id": "NdK7TU-TBVon"
      },
      "execution_count": 49,
      "outputs": []
    },
    {
      "cell_type": "code",
      "source": [
        "def merge_and_sort(datasets):\n",
        "    combined_data = []\n",
        "    for dataset in datasets:\n",
        "        combined_data.extend(dataset)\n",
        "\n",
        "    df = pd.DataFrame(combined_data) #Convert list of dictionaries to a df\n",
        "\n",
        "    sorted_df = df.sort_values(by='value') #Sort by the 'value' column\n",
        "\n",
        "    return sorted_df.to_dict(orient='records') #Convert back to list of dictionaries"
      ],
      "metadata": {
        "id": "irUKPfNYBcxD"
      },
      "execution_count": 57,
      "outputs": []
    },
    {
      "cell_type": "code",
      "source": [
        "merge_and_sort(datasets)"
      ],
      "metadata": {
        "colab": {
          "base_uri": "https://localhost:8080/"
        },
        "id": "CXbnJ9HNLYjw",
        "outputId": "85d86ed4-5234-459f-8574-b48178bc8fd1"
      },
      "execution_count": 58,
      "outputs": [
        {
          "output_type": "execute_result",
          "data": {
            "text/plain": [
              "[{'id': 5, 'value': 5},\n",
              " {'id': 1, 'value': 10},\n",
              " {'id': 3, 'value': 15},\n",
              " {'id': 2, 'value': 20},\n",
              " {'id': 4, 'value': 25},\n",
              " {'id': 6, 'value': 30}]"
            ]
          },
          "metadata": {},
          "execution_count": 58
        }
      ]
    },
    {
      "cell_type": "markdown",
      "source": [
        "# Hard"
      ],
      "metadata": {
        "id": "b8rE_pFDPk0g"
      }
    },
    {
      "cell_type": "markdown",
      "source": [
        "You are given a list of stock prices, where each price is a dictionary containing a 'date' and 'price'. Write a function to compute the rolling average of stock prices for a given window size and return a list of dictionaries with the 'date' and corresponding rolling average."
      ],
      "metadata": {
        "id": "O_npSqtuNmKS"
      }
    },
    {
      "cell_type": "code",
      "source": [
        "stock_prices = [\n",
        "    {\"date\": \"2024-07-01\", \"price\": 100},\n",
        "    {\"date\": \"2024-07-02\", \"price\": 110},\n",
        "    {\"date\": \"2024-07-03\", \"price\": 120},\n",
        "    {\"date\": \"2024-07-04\", \"price\": 130},\n",
        "    {\"date\": \"2024-07-05\", \"price\": 140}\n",
        "]\n",
        "window_size = 3"
      ],
      "metadata": {
        "id": "cEdiG1R-NrYH"
      },
      "execution_count": 62,
      "outputs": []
    },
    {
      "cell_type": "code",
      "source": [
        "def rolling_average(prices, window_size):\n",
        "    df = pd.DataFrame(prices)\n",
        "    df['rolling_average'] = df['price'].rolling(window=window_size).mean()\n",
        "    return df.to_dict(orient='records')"
      ],
      "metadata": {
        "id": "R9TEYrTMOHZy"
      },
      "execution_count": 63,
      "outputs": []
    },
    {
      "cell_type": "code",
      "source": [
        "rolling_average(stock_prices, window_size)"
      ],
      "metadata": {
        "colab": {
          "base_uri": "https://localhost:8080/"
        },
        "id": "YKAlIXsxOv1Q",
        "outputId": "063a9bd1-d21a-4bd2-9071-814a0d3daab7"
      },
      "execution_count": 64,
      "outputs": [
        {
          "output_type": "execute_result",
          "data": {
            "text/plain": [
              "[{'date': '2024-07-01', 'price': 100, 'rolling_average': nan},\n",
              " {'date': '2024-07-02', 'price': 110, 'rolling_average': nan},\n",
              " {'date': '2024-07-03', 'price': 120, 'rolling_average': 110.0},\n",
              " {'date': '2024-07-04', 'price': 130, 'rolling_average': 120.0},\n",
              " {'date': '2024-07-05', 'price': 140, 'rolling_average': 130.0}]"
            ]
          },
          "metadata": {},
          "execution_count": 64
        }
      ]
    }
  ]
}