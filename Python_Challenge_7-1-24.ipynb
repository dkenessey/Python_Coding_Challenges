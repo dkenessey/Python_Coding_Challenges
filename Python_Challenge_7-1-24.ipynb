{
 "cells": [
  {
   "cell_type": "markdown",
   "id": "9f36087e",
   "metadata": {},
   "source": [
    "# Easy"
   ]
  },
  {
   "cell_type": "markdown",
   "id": "7774589e",
   "metadata": {},
   "source": [
    "Write a function that takes a list of integers and returns a list containing the squares of the even numbers from the input list using list comprehension."
   ]
  },
  {
   "cell_type": "code",
   "execution_count": 65,
   "id": "7d363ebd",
   "metadata": {},
   "outputs": [],
   "source": [
    "numbers = [1, 2, 3, 4, 5, 6]"
   ]
  },
  {
   "cell_type": "code",
   "execution_count": 66,
   "id": "0cf62dcb",
   "metadata": {},
   "outputs": [],
   "source": [
    "x = [i ** 2 for i in numbers if i % 2 == 0]"
   ]
  },
  {
   "cell_type": "code",
   "execution_count": 67,
   "id": "2d17455f",
   "metadata": {},
   "outputs": [
    {
     "name": "stdout",
     "output_type": "stream",
     "text": [
      "[4, 16, 36]\n"
     ]
    }
   ],
   "source": [
    "print(x)"
   ]
  },
  {
   "cell_type": "markdown",
   "id": "e1c65036",
   "metadata": {},
   "source": [
    "# Medium"
   ]
  },
  {
   "cell_type": "markdown",
   "id": "ff81ea98",
   "metadata": {},
   "source": [
    "Write a function that filters out odd numbers from a list and then multiplies each of the remaining even numbers by 10."
   ]
  },
  {
   "cell_type": "code",
   "execution_count": 20,
   "id": "266a1a63",
   "metadata": {},
   "outputs": [],
   "source": [
    "numbers = [1, 2, 3, 4, 5, 6]"
   ]
  },
  {
   "cell_type": "code",
   "execution_count": 24,
   "id": "2c2974e1",
   "metadata": {},
   "outputs": [],
   "source": [
    "y = [i*10 for i in numbers if i % 2 == 0]"
   ]
  },
  {
   "cell_type": "code",
   "execution_count": 25,
   "id": "d5650913",
   "metadata": {},
   "outputs": [
    {
     "name": "stdout",
     "output_type": "stream",
     "text": [
      "[20, 40, 60]\n"
     ]
    }
   ],
   "source": [
    "print(y)"
   ]
  },
  {
   "cell_type": "markdown",
   "id": "51ad83be",
   "metadata": {},
   "source": [
    "# Advanced "
   ]
  },
  {
   "cell_type": "markdown",
   "id": "6231d683",
   "metadata": {},
   "source": [
    "Write a function that takes a list of integers, removes any duplicates, and returns the list sorted in ascending order."
   ]
  },
  {
   "cell_type": "code",
   "execution_count": 150,
   "id": "5aa9a674",
   "metadata": {},
   "outputs": [],
   "source": [
    "numbers = [4, 2, 7, 3, 2, 8, 4, 7, 1]"
   ]
  },
  {
   "cell_type": "code",
   "execution_count": 163,
   "id": "cc7579dd",
   "metadata": {},
   "outputs": [],
   "source": [
    "unique = []\n",
    "def filtered_numbers(numbers):\n",
    "    [unique.append(i) for i in numbers if i not in unique]\n",
    "    return sorted(unique)"
   ]
  },
  {
   "cell_type": "code",
   "execution_count": 164,
   "id": "93bc5bcb",
   "metadata": {},
   "outputs": [
    {
     "data": {
      "text/plain": [
       "[1, 2, 3, 4, 7, 8]"
      ]
     },
     "execution_count": 164,
     "metadata": {},
     "output_type": "execute_result"
    }
   ],
   "source": [
    "filtered_numbers(numbers)"
   ]
  }
 ],
 "metadata": {
  "kernelspec": {
   "display_name": "Python 3 (ipykernel)",
   "language": "python",
   "name": "python3"
  },
  "language_info": {
   "codemirror_mode": {
    "name": "ipython",
    "version": 3
   },
   "file_extension": ".py",
   "mimetype": "text/x-python",
   "name": "python",
   "nbconvert_exporter": "python",
   "pygments_lexer": "ipython3",
   "version": "3.11.9"
  }
 },
 "nbformat": 4,
 "nbformat_minor": 5
}
