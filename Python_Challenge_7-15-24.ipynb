{
  "nbformat": 4,
  "nbformat_minor": 0,
  "metadata": {
    "colab": {
      "provenance": []
    },
    "kernelspec": {
      "name": "python3",
      "display_name": "Python 3"
    },
    "language_info": {
      "name": "python"
    }
  },
  "cells": [
    {
      "cell_type": "markdown",
      "source": [
        "# Easy"
      ],
      "metadata": {
        "id": "7v0q-k2K-c1y"
      }
    },
    {
      "cell_type": "markdown",
      "source": [
        "Write a function that converts a temperature from Celsius to Fahrenheit."
      ],
      "metadata": {
        "id": "UqNHogSX-e5V"
      }
    },
    {
      "cell_type": "code",
      "source": [
        "celsius_temperatures = [0, 20, 37, 100]"
      ],
      "metadata": {
        "id": "afaFskgS-uNX"
      },
      "execution_count": 23,
      "outputs": []
    },
    {
      "cell_type": "code",
      "execution_count": 183,
      "metadata": {
        "id": "wNiHuq6n-VsR"
      },
      "outputs": [],
      "source": [
        "def temperature_converter(temperatures):\n",
        "  converted_temperatures = []\n",
        "  for celcius in temperatures:\n",
        "    temperature_in_farenheit = celcius * 9/5 + 32\n",
        "    converted_temperatures.append(temperature_in_farenheit)\n",
        "  return converted_temperatures"
      ]
    },
    {
      "cell_type": "code",
      "source": [
        "temperature_converter(celsius_temperatures)"
      ],
      "metadata": {
        "colab": {
          "base_uri": "https://localhost:8080/"
        },
        "id": "ng-qWOt-_UYs",
        "outputId": "b3983db3-2ec8-42c4-8ddc-64c89fc3eb1e"
      },
      "execution_count": 28,
      "outputs": [
        {
          "output_type": "execute_result",
          "data": {
            "text/plain": [
              "[32.0, 68.0, 98.6, 212.0]"
            ]
          },
          "metadata": {},
          "execution_count": 28
        }
      ]
    },
    {
      "cell_type": "markdown",
      "source": [
        "# Medium"
      ],
      "metadata": {
        "id": "f4CYdPEEB4tZ"
      }
    },
    {
      "cell_type": "markdown",
      "source": [
        "Write a function that takes two lists of integers and returns a list of their intersection (common elements), without duplicates."
      ],
      "metadata": {
        "id": "rA9rNM6QB6gi"
      }
    },
    {
      "cell_type": "code",
      "source": [
        "list1 = [1, 2, 3, 4, 5, 6]\n",
        "list2 = [4, 5, 6, 7, 8, 9]"
      ],
      "metadata": {
        "id": "INRGkVe1B-iD"
      },
      "execution_count": 29,
      "outputs": []
    },
    {
      "cell_type": "code",
      "source": [
        "def intersection(list1, list2):\n",
        "  intersection_list = []\n",
        "  for i in list1:\n",
        "    if i in list2 and i not in intersection_list:\n",
        "      intersection_list.append(i)\n",
        "  return intersection_list"
      ],
      "metadata": {
        "id": "yUkEW1vgCD7s"
      },
      "execution_count": 37,
      "outputs": []
    },
    {
      "cell_type": "code",
      "source": [
        "intersection(list1, list2)"
      ],
      "metadata": {
        "colab": {
          "base_uri": "https://localhost:8080/"
        },
        "id": "2oGeGWBLCmDd",
        "outputId": "3d87f10f-d1cb-4ed7-e7ee-75427eed84dd"
      },
      "execution_count": 39,
      "outputs": [
        {
          "output_type": "execute_result",
          "data": {
            "text/plain": [
              "[4, 5, 6]"
            ]
          },
          "metadata": {},
          "execution_count": 39
        }
      ]
    },
    {
      "cell_type": "markdown",
      "source": [
        "# Hard"
      ],
      "metadata": {
        "id": "Y42y2sCtDsPJ"
      }
    },
    {
      "cell_type": "markdown",
      "source": [
        "Write a function that finds the length of the longest substring without repeating characters in a given string."
      ],
      "metadata": {
        "id": "036kdRvDDusc"
      }
    },
    {
      "cell_type": "code",
      "source": [
        "input_string = \"abrkaabcdefghijjxxx\""
      ],
      "metadata": {
        "id": "ISiHCaOKDyc8"
      },
      "execution_count": 40,
      "outputs": []
    },
    {
      "cell_type": "code",
      "source": [
        "def longest_substring(string):\n",
        "    substring_length = []\n",
        "    max_length = 0\n",
        "\n",
        "    for i in string:\n",
        "        if i not in substring_length:\n",
        "            substring_length.append(i)\n",
        "        else:\n",
        "            while i in substring_length:\n",
        "                substring_length.pop(0)\n",
        "            substring_length.append(i)\n",
        "\n",
        "        max_length = max(max_length, len(substring_length))\n",
        "\n",
        "    return max_length"
      ],
      "metadata": {
        "id": "SNb6p3UBD1eI"
      },
      "execution_count": 123,
      "outputs": []
    },
    {
      "cell_type": "code",
      "source": [
        "longest_substring(input_string)"
      ],
      "metadata": {
        "colab": {
          "base_uri": "https://localhost:8080/"
        },
        "id": "NQMdoVrbEjAK",
        "outputId": "bf5702f2-f63a-4af9-a1b6-d9e7e5c08a38"
      },
      "execution_count": 125,
      "outputs": [
        {
          "output_type": "execute_result",
          "data": {
            "text/plain": [
              "10"
            ]
          },
          "metadata": {},
          "execution_count": 125
        }
      ]
    },
    {
      "cell_type": "markdown",
      "source": [
        "# Bonus OOP"
      ],
      "metadata": {
        "id": "C-ZdFZvTPS0V"
      }
    },
    {
      "cell_type": "markdown",
      "source": [
        " Create a class Library that manages a collection of books. The class should support adding books, removing books, and searching for books by title."
      ],
      "metadata": {
        "id": "q6S6cjbjPZKc"
      }
    },
    {
      "cell_type": "code",
      "source": [
        "class Library:\n",
        "    def __init__(self):\n",
        "        self.books = [] #Creating a list to store books\n",
        "\n",
        "    def search_book(self, title): #Creating a method to search for a book by title\n",
        "        if title in self.books:\n",
        "            return True\n",
        "        return False\n",
        "\n",
        "    def add_book(self, title): #Creating a method to add a book to the library\n",
        "        if self.search_book(title):\n",
        "            print(f\"'{title}' is already in the library.\")\n",
        "        else:\n",
        "            self.books.append(title)\n",
        "            print(f\"'{title}' has been added to the library.\")\n",
        "\n",
        "    def remove_book(self, title): #Creating a method to remove a book from the library\n",
        "        if self.search_book(title):\n",
        "            self.books.remove(title)\n",
        "            print(f\"'{title}' has been removed from the library.\")\n",
        "        else:\n",
        "            print(f\"'{title}' is not found in the library.\")"
      ],
      "metadata": {
        "id": "JRNydBSxPwEO"
      },
      "execution_count": 170,
      "outputs": []
    },
    {
      "cell_type": "code",
      "source": [
        "library = Library()"
      ],
      "metadata": {
        "id": "c2gy6ljGTWLY"
      },
      "execution_count": 179,
      "outputs": []
    },
    {
      "cell_type": "code",
      "source": [
        "#Testing the add function\n",
        "library.add_book('The Great Gatsby')\n",
        "library.add_book(\"1984\")\n",
        "library.add_book(\"To Kill a Mockingbird\")"
      ],
      "metadata": {
        "colab": {
          "base_uri": "https://localhost:8080/"
        },
        "id": "3uiW354eRdoL",
        "outputId": "d736cba5-7527-4a1e-8a6b-08934f59f30d"
      },
      "execution_count": 184,
      "outputs": [
        {
          "output_type": "stream",
          "name": "stdout",
          "text": [
            "'The Great Gatsby' is already in the library.\n",
            "'1984' is already in the library.\n",
            "'To Kill a Mockingbird' has been added to the library.\n"
          ]
        }
      ]
    },
    {
      "cell_type": "code",
      "source": [
        "#Testing the search function\n",
        "library.search_book(\"1984\")\n",
        "library.search_book(\"The Catcher in the Rye\")"
      ],
      "metadata": {
        "colab": {
          "base_uri": "https://localhost:8080/"
        },
        "id": "iM74tuiyT2zX",
        "outputId": "dd756001-1ad5-4aa6-a1f6-78fc8d32e3b9"
      },
      "execution_count": 185,
      "outputs": [
        {
          "output_type": "execute_result",
          "data": {
            "text/plain": [
              "False"
            ]
          },
          "metadata": {},
          "execution_count": 185
        }
      ]
    },
    {
      "cell_type": "code",
      "source": [
        "#Testing the remove function\n",
        "library.remove_book(\"1984\")\n",
        "library.search_book(\"1984\")"
      ],
      "metadata": {
        "colab": {
          "base_uri": "https://localhost:8080/"
        },
        "id": "NpZ9hDTpXVYi",
        "outputId": "a657b0ee-db3a-457e-c2a5-b6bc4955983a"
      },
      "execution_count": 186,
      "outputs": [
        {
          "output_type": "stream",
          "name": "stdout",
          "text": [
            "'1984' has been removed from the library.\n"
          ]
        },
        {
          "output_type": "execute_result",
          "data": {
            "text/plain": [
              "False"
            ]
          },
          "metadata": {},
          "execution_count": 186
        }
      ]
    }
  ]
}
